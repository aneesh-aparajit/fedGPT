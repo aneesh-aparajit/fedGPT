{
  "nbformat": 4,
  "nbformat_minor": 0,
  "metadata": {
    "colab": {
      "provenance": [],
      "gpuType": "T4"
    },
    "kernelspec": {
      "name": "python3",
      "display_name": "Python 3"
    },
    "language_info": {
      "name": "python"
    },
    "accelerator": "GPU"
  },
  "cells": [
    {
      "cell_type": "markdown",
      "source": [
        "# Federated Learning on small GPT model"
      ],
      "metadata": {
        "id": "-b_JXT-aGTnY"
      }
    },
    {
      "cell_type": "code",
      "execution_count": 1,
      "metadata": {
        "id": "PsvTaog3Fkol"
      },
      "outputs": [],
      "source": [
        "!pip install -q 'flwr[simulation]' torch torchvision matplotlib"
      ]
    },
    {
      "cell_type": "code",
      "source": [
        "from collections import OrderedDict\n",
        "from typing import List, Tuple, Dict, Optional\n",
        "\n",
        "import matplotlib.pyplot as plt\n",
        "import numpy as np\n",
        "import torch\n",
        "import torch.nn as nn\n",
        "import torch.nn.functional as F\n",
        "# import torchvision\n",
        "# import torchvision.transforms as tfms\n",
        "# from torchvision.datasets import CIFAR10\n",
        "from torch.utils.data import Dataset, DataLoader, random_split\n",
        "import string\n",
        "import pandas as pd\n",
        "\n",
        "import flwr as fl\n",
        "from flwr.common import Metrics\n",
        "from tqdm import tqdm\n",
        "\n",
        "DEVICE = torch.device(\n",
        "    \"cuda\" if torch.backends.cuda.is_built()\n",
        "    else \"mps\" if torch.backends.mps.is_built()\n",
        "    else \"cpu\"\n",
        ")\n",
        "# DEVICE = \"cpu\"\n",
        "\n",
        "print(f\"Training on {DEVICE} using PyTorch {torch.__version__} and Flwr {fl.__version__}\")"
      ],
      "metadata": {
        "colab": {
          "base_uri": "https://localhost:8080/"
        },
        "id": "WMfuHcqxFuNp",
        "outputId": "8c33b97f-a94f-421b-d071-9dd2c3482dda"
      },
      "execution_count": 2,
      "outputs": [
        {
          "output_type": "stream",
          "name": "stdout",
          "text": [
            "Training on cuda using PyTorch 2.1.0+cu118 and Flwr 1.5.0\n"
          ]
        }
      ]
    },
    {
      "cell_type": "code",
      "source": [
        "df = pd.read_csv('en-fr-mid.csv')\n",
        "df.head()"
      ],
      "metadata": {
        "colab": {
          "base_uri": "https://localhost:8080/",
          "height": 206
        },
        "id": "s9GiOgghFyf1",
        "outputId": "76ee41c5-3433-46cb-c390-dc41f778f15e"
      },
      "execution_count": 3,
      "outputs": [
        {
          "output_type": "execute_result",
          "data": {
            "text/plain": [
              "   Unnamed: 0                                                 en  \\\n",
              "0           0  Changing Lives | Changing Society | How It Wor...   \n",
              "1           1                                           Site map   \n",
              "2           2                                           Feedback   \n",
              "3           3                                            Credits   \n",
              "4           4                                           Français   \n",
              "\n",
              "                                                  fr  en_len  fr_len  \n",
              "0  Il a transformé notre vie | Il a transformé la...     201     248  \n",
              "1                                       Plan du site       8      12  \n",
              "2                                        Rétroaction       8      11  \n",
              "3                                            Crédits       7       7  \n",
              "4                                            English       8       7  "
            ],
            "text/html": [
              "\n",
              "  <div id=\"df-9c6f096c-6638-437d-b8d7-9079d1504b9e\" class=\"colab-df-container\">\n",
              "    <div>\n",
              "<style scoped>\n",
              "    .dataframe tbody tr th:only-of-type {\n",
              "        vertical-align: middle;\n",
              "    }\n",
              "\n",
              "    .dataframe tbody tr th {\n",
              "        vertical-align: top;\n",
              "    }\n",
              "\n",
              "    .dataframe thead th {\n",
              "        text-align: right;\n",
              "    }\n",
              "</style>\n",
              "<table border=\"1\" class=\"dataframe\">\n",
              "  <thead>\n",
              "    <tr style=\"text-align: right;\">\n",
              "      <th></th>\n",
              "      <th>Unnamed: 0</th>\n",
              "      <th>en</th>\n",
              "      <th>fr</th>\n",
              "      <th>en_len</th>\n",
              "      <th>fr_len</th>\n",
              "    </tr>\n",
              "  </thead>\n",
              "  <tbody>\n",
              "    <tr>\n",
              "      <th>0</th>\n",
              "      <td>0</td>\n",
              "      <td>Changing Lives | Changing Society | How It Wor...</td>\n",
              "      <td>Il a transformé notre vie | Il a transformé la...</td>\n",
              "      <td>201</td>\n",
              "      <td>248</td>\n",
              "    </tr>\n",
              "    <tr>\n",
              "      <th>1</th>\n",
              "      <td>1</td>\n",
              "      <td>Site map</td>\n",
              "      <td>Plan du site</td>\n",
              "      <td>8</td>\n",
              "      <td>12</td>\n",
              "    </tr>\n",
              "    <tr>\n",
              "      <th>2</th>\n",
              "      <td>2</td>\n",
              "      <td>Feedback</td>\n",
              "      <td>Rétroaction</td>\n",
              "      <td>8</td>\n",
              "      <td>11</td>\n",
              "    </tr>\n",
              "    <tr>\n",
              "      <th>3</th>\n",
              "      <td>3</td>\n",
              "      <td>Credits</td>\n",
              "      <td>Crédits</td>\n",
              "      <td>7</td>\n",
              "      <td>7</td>\n",
              "    </tr>\n",
              "    <tr>\n",
              "      <th>4</th>\n",
              "      <td>4</td>\n",
              "      <td>Français</td>\n",
              "      <td>English</td>\n",
              "      <td>8</td>\n",
              "      <td>7</td>\n",
              "    </tr>\n",
              "  </tbody>\n",
              "</table>\n",
              "</div>\n",
              "    <div class=\"colab-df-buttons\">\n",
              "\n",
              "  <div class=\"colab-df-container\">\n",
              "    <button class=\"colab-df-convert\" onclick=\"convertToInteractive('df-9c6f096c-6638-437d-b8d7-9079d1504b9e')\"\n",
              "            title=\"Convert this dataframe to an interactive table.\"\n",
              "            style=\"display:none;\">\n",
              "\n",
              "  <svg xmlns=\"http://www.w3.org/2000/svg\" height=\"24px\" viewBox=\"0 -960 960 960\">\n",
              "    <path d=\"M120-120v-720h720v720H120Zm60-500h600v-160H180v160Zm220 220h160v-160H400v160Zm0 220h160v-160H400v160ZM180-400h160v-160H180v160Zm440 0h160v-160H620v160ZM180-180h160v-160H180v160Zm440 0h160v-160H620v160Z\"/>\n",
              "  </svg>\n",
              "    </button>\n",
              "\n",
              "  <style>\n",
              "    .colab-df-container {\n",
              "      display:flex;\n",
              "      gap: 12px;\n",
              "    }\n",
              "\n",
              "    .colab-df-convert {\n",
              "      background-color: #E8F0FE;\n",
              "      border: none;\n",
              "      border-radius: 50%;\n",
              "      cursor: pointer;\n",
              "      display: none;\n",
              "      fill: #1967D2;\n",
              "      height: 32px;\n",
              "      padding: 0 0 0 0;\n",
              "      width: 32px;\n",
              "    }\n",
              "\n",
              "    .colab-df-convert:hover {\n",
              "      background-color: #E2EBFA;\n",
              "      box-shadow: 0px 1px 2px rgba(60, 64, 67, 0.3), 0px 1px 3px 1px rgba(60, 64, 67, 0.15);\n",
              "      fill: #174EA6;\n",
              "    }\n",
              "\n",
              "    .colab-df-buttons div {\n",
              "      margin-bottom: 4px;\n",
              "    }\n",
              "\n",
              "    [theme=dark] .colab-df-convert {\n",
              "      background-color: #3B4455;\n",
              "      fill: #D2E3FC;\n",
              "    }\n",
              "\n",
              "    [theme=dark] .colab-df-convert:hover {\n",
              "      background-color: #434B5C;\n",
              "      box-shadow: 0px 1px 3px 1px rgba(0, 0, 0, 0.15);\n",
              "      filter: drop-shadow(0px 1px 2px rgba(0, 0, 0, 0.3));\n",
              "      fill: #FFFFFF;\n",
              "    }\n",
              "  </style>\n",
              "\n",
              "    <script>\n",
              "      const buttonEl =\n",
              "        document.querySelector('#df-9c6f096c-6638-437d-b8d7-9079d1504b9e button.colab-df-convert');\n",
              "      buttonEl.style.display =\n",
              "        google.colab.kernel.accessAllowed ? 'block' : 'none';\n",
              "\n",
              "      async function convertToInteractive(key) {\n",
              "        const element = document.querySelector('#df-9c6f096c-6638-437d-b8d7-9079d1504b9e');\n",
              "        const dataTable =\n",
              "          await google.colab.kernel.invokeFunction('convertToInteractive',\n",
              "                                                    [key], {});\n",
              "        if (!dataTable) return;\n",
              "\n",
              "        const docLinkHtml = 'Like what you see? Visit the ' +\n",
              "          '<a target=\"_blank\" href=https://colab.research.google.com/notebooks/data_table.ipynb>data table notebook</a>'\n",
              "          + ' to learn more about interactive tables.';\n",
              "        element.innerHTML = '';\n",
              "        dataTable['output_type'] = 'display_data';\n",
              "        await google.colab.output.renderOutput(dataTable, element);\n",
              "        const docLink = document.createElement('div');\n",
              "        docLink.innerHTML = docLinkHtml;\n",
              "        element.appendChild(docLink);\n",
              "      }\n",
              "    </script>\n",
              "  </div>\n",
              "\n",
              "\n",
              "<div id=\"df-7474b0c6-1a91-497a-b3e7-3c5a3992db3d\">\n",
              "  <button class=\"colab-df-quickchart\" onclick=\"quickchart('df-7474b0c6-1a91-497a-b3e7-3c5a3992db3d')\"\n",
              "            title=\"Suggest charts\"\n",
              "            style=\"display:none;\">\n",
              "\n",
              "<svg xmlns=\"http://www.w3.org/2000/svg\" height=\"24px\"viewBox=\"0 0 24 24\"\n",
              "     width=\"24px\">\n",
              "    <g>\n",
              "        <path d=\"M19 3H5c-1.1 0-2 .9-2 2v14c0 1.1.9 2 2 2h14c1.1 0 2-.9 2-2V5c0-1.1-.9-2-2-2zM9 17H7v-7h2v7zm4 0h-2V7h2v10zm4 0h-2v-4h2v4z\"/>\n",
              "    </g>\n",
              "</svg>\n",
              "  </button>\n",
              "\n",
              "<style>\n",
              "  .colab-df-quickchart {\n",
              "      --bg-color: #E8F0FE;\n",
              "      --fill-color: #1967D2;\n",
              "      --hover-bg-color: #E2EBFA;\n",
              "      --hover-fill-color: #174EA6;\n",
              "      --disabled-fill-color: #AAA;\n",
              "      --disabled-bg-color: #DDD;\n",
              "  }\n",
              "\n",
              "  [theme=dark] .colab-df-quickchart {\n",
              "      --bg-color: #3B4455;\n",
              "      --fill-color: #D2E3FC;\n",
              "      --hover-bg-color: #434B5C;\n",
              "      --hover-fill-color: #FFFFFF;\n",
              "      --disabled-bg-color: #3B4455;\n",
              "      --disabled-fill-color: #666;\n",
              "  }\n",
              "\n",
              "  .colab-df-quickchart {\n",
              "    background-color: var(--bg-color);\n",
              "    border: none;\n",
              "    border-radius: 50%;\n",
              "    cursor: pointer;\n",
              "    display: none;\n",
              "    fill: var(--fill-color);\n",
              "    height: 32px;\n",
              "    padding: 0;\n",
              "    width: 32px;\n",
              "  }\n",
              "\n",
              "  .colab-df-quickchart:hover {\n",
              "    background-color: var(--hover-bg-color);\n",
              "    box-shadow: 0 1px 2px rgba(60, 64, 67, 0.3), 0 1px 3px 1px rgba(60, 64, 67, 0.15);\n",
              "    fill: var(--button-hover-fill-color);\n",
              "  }\n",
              "\n",
              "  .colab-df-quickchart-complete:disabled,\n",
              "  .colab-df-quickchart-complete:disabled:hover {\n",
              "    background-color: var(--disabled-bg-color);\n",
              "    fill: var(--disabled-fill-color);\n",
              "    box-shadow: none;\n",
              "  }\n",
              "\n",
              "  .colab-df-spinner {\n",
              "    border: 2px solid var(--fill-color);\n",
              "    border-color: transparent;\n",
              "    border-bottom-color: var(--fill-color);\n",
              "    animation:\n",
              "      spin 1s steps(1) infinite;\n",
              "  }\n",
              "\n",
              "  @keyframes spin {\n",
              "    0% {\n",
              "      border-color: transparent;\n",
              "      border-bottom-color: var(--fill-color);\n",
              "      border-left-color: var(--fill-color);\n",
              "    }\n",
              "    20% {\n",
              "      border-color: transparent;\n",
              "      border-left-color: var(--fill-color);\n",
              "      border-top-color: var(--fill-color);\n",
              "    }\n",
              "    30% {\n",
              "      border-color: transparent;\n",
              "      border-left-color: var(--fill-color);\n",
              "      border-top-color: var(--fill-color);\n",
              "      border-right-color: var(--fill-color);\n",
              "    }\n",
              "    40% {\n",
              "      border-color: transparent;\n",
              "      border-right-color: var(--fill-color);\n",
              "      border-top-color: var(--fill-color);\n",
              "    }\n",
              "    60% {\n",
              "      border-color: transparent;\n",
              "      border-right-color: var(--fill-color);\n",
              "    }\n",
              "    80% {\n",
              "      border-color: transparent;\n",
              "      border-right-color: var(--fill-color);\n",
              "      border-bottom-color: var(--fill-color);\n",
              "    }\n",
              "    90% {\n",
              "      border-color: transparent;\n",
              "      border-bottom-color: var(--fill-color);\n",
              "    }\n",
              "  }\n",
              "</style>\n",
              "\n",
              "  <script>\n",
              "    async function quickchart(key) {\n",
              "      const quickchartButtonEl =\n",
              "        document.querySelector('#' + key + ' button');\n",
              "      quickchartButtonEl.disabled = true;  // To prevent multiple clicks.\n",
              "      quickchartButtonEl.classList.add('colab-df-spinner');\n",
              "      try {\n",
              "        const charts = await google.colab.kernel.invokeFunction(\n",
              "            'suggestCharts', [key], {});\n",
              "      } catch (error) {\n",
              "        console.error('Error during call to suggestCharts:', error);\n",
              "      }\n",
              "      quickchartButtonEl.classList.remove('colab-df-spinner');\n",
              "      quickchartButtonEl.classList.add('colab-df-quickchart-complete');\n",
              "    }\n",
              "    (() => {\n",
              "      let quickchartButtonEl =\n",
              "        document.querySelector('#df-7474b0c6-1a91-497a-b3e7-3c5a3992db3d button');\n",
              "      quickchartButtonEl.style.display =\n",
              "        google.colab.kernel.accessAllowed ? 'block' : 'none';\n",
              "    })();\n",
              "  </script>\n",
              "</div>\n",
              "    </div>\n",
              "  </div>\n"
            ]
          },
          "metadata": {},
          "execution_count": 3
        }
      ]
    },
    {
      "cell_type": "code",
      "source": [
        "df.dropna(inplace=True)\n",
        "df = df.reset_index(drop=True)\n",
        "# df = df.head(5000)\n",
        "df['en_len'] = df['en'].apply(lambda x: len(x))\n",
        "df['fr_len'] = df['fr'].apply(lambda x: len(x))\n",
        "df.shape"
      ],
      "metadata": {
        "colab": {
          "base_uri": "https://localhost:8080/"
        },
        "id": "nqKDW0mJF9bx",
        "outputId": "a4d8360b-2858-479e-fa8a-961a863653d7"
      },
      "execution_count": 4,
      "outputs": [
        {
          "output_type": "execute_result",
          "data": {
            "text/plain": [
              "(19999, 5)"
            ]
          },
          "metadata": {},
          "execution_count": 4
        }
      ]
    },
    {
      "cell_type": "code",
      "source": [
        "df[['en_len', 'fr_len']].describe()"
      ],
      "metadata": {
        "colab": {
          "base_uri": "https://localhost:8080/",
          "height": 300
        },
        "id": "cmvqHmTHGHGk",
        "outputId": "dc9d2341-5707-4577-cdb3-522f4d71e0b8"
      },
      "execution_count": 5,
      "outputs": [
        {
          "output_type": "execute_result",
          "data": {
            "text/plain": [
              "             en_len        fr_len\n",
              "count  19999.000000  19999.000000\n",
              "mean     117.508825    141.033802\n",
              "std      108.681920    126.543994\n",
              "min        1.000000      1.000000\n",
              "25%       62.000000     74.000000\n",
              "50%      104.000000    124.000000\n",
              "75%      152.000000    184.000000\n",
              "max     5821.000000   6159.000000"
            ],
            "text/html": [
              "\n",
              "  <div id=\"df-83a7678e-1a55-4a0c-8ea0-811b85d25bb9\" class=\"colab-df-container\">\n",
              "    <div>\n",
              "<style scoped>\n",
              "    .dataframe tbody tr th:only-of-type {\n",
              "        vertical-align: middle;\n",
              "    }\n",
              "\n",
              "    .dataframe tbody tr th {\n",
              "        vertical-align: top;\n",
              "    }\n",
              "\n",
              "    .dataframe thead th {\n",
              "        text-align: right;\n",
              "    }\n",
              "</style>\n",
              "<table border=\"1\" class=\"dataframe\">\n",
              "  <thead>\n",
              "    <tr style=\"text-align: right;\">\n",
              "      <th></th>\n",
              "      <th>en_len</th>\n",
              "      <th>fr_len</th>\n",
              "    </tr>\n",
              "  </thead>\n",
              "  <tbody>\n",
              "    <tr>\n",
              "      <th>count</th>\n",
              "      <td>19999.000000</td>\n",
              "      <td>19999.000000</td>\n",
              "    </tr>\n",
              "    <tr>\n",
              "      <th>mean</th>\n",
              "      <td>117.508825</td>\n",
              "      <td>141.033802</td>\n",
              "    </tr>\n",
              "    <tr>\n",
              "      <th>std</th>\n",
              "      <td>108.681920</td>\n",
              "      <td>126.543994</td>\n",
              "    </tr>\n",
              "    <tr>\n",
              "      <th>min</th>\n",
              "      <td>1.000000</td>\n",
              "      <td>1.000000</td>\n",
              "    </tr>\n",
              "    <tr>\n",
              "      <th>25%</th>\n",
              "      <td>62.000000</td>\n",
              "      <td>74.000000</td>\n",
              "    </tr>\n",
              "    <tr>\n",
              "      <th>50%</th>\n",
              "      <td>104.000000</td>\n",
              "      <td>124.000000</td>\n",
              "    </tr>\n",
              "    <tr>\n",
              "      <th>75%</th>\n",
              "      <td>152.000000</td>\n",
              "      <td>184.000000</td>\n",
              "    </tr>\n",
              "    <tr>\n",
              "      <th>max</th>\n",
              "      <td>5821.000000</td>\n",
              "      <td>6159.000000</td>\n",
              "    </tr>\n",
              "  </tbody>\n",
              "</table>\n",
              "</div>\n",
              "    <div class=\"colab-df-buttons\">\n",
              "\n",
              "  <div class=\"colab-df-container\">\n",
              "    <button class=\"colab-df-convert\" onclick=\"convertToInteractive('df-83a7678e-1a55-4a0c-8ea0-811b85d25bb9')\"\n",
              "            title=\"Convert this dataframe to an interactive table.\"\n",
              "            style=\"display:none;\">\n",
              "\n",
              "  <svg xmlns=\"http://www.w3.org/2000/svg\" height=\"24px\" viewBox=\"0 -960 960 960\">\n",
              "    <path d=\"M120-120v-720h720v720H120Zm60-500h600v-160H180v160Zm220 220h160v-160H400v160Zm0 220h160v-160H400v160ZM180-400h160v-160H180v160Zm440 0h160v-160H620v160ZM180-180h160v-160H180v160Zm440 0h160v-160H620v160Z\"/>\n",
              "  </svg>\n",
              "    </button>\n",
              "\n",
              "  <style>\n",
              "    .colab-df-container {\n",
              "      display:flex;\n",
              "      gap: 12px;\n",
              "    }\n",
              "\n",
              "    .colab-df-convert {\n",
              "      background-color: #E8F0FE;\n",
              "      border: none;\n",
              "      border-radius: 50%;\n",
              "      cursor: pointer;\n",
              "      display: none;\n",
              "      fill: #1967D2;\n",
              "      height: 32px;\n",
              "      padding: 0 0 0 0;\n",
              "      width: 32px;\n",
              "    }\n",
              "\n",
              "    .colab-df-convert:hover {\n",
              "      background-color: #E2EBFA;\n",
              "      box-shadow: 0px 1px 2px rgba(60, 64, 67, 0.3), 0px 1px 3px 1px rgba(60, 64, 67, 0.15);\n",
              "      fill: #174EA6;\n",
              "    }\n",
              "\n",
              "    .colab-df-buttons div {\n",
              "      margin-bottom: 4px;\n",
              "    }\n",
              "\n",
              "    [theme=dark] .colab-df-convert {\n",
              "      background-color: #3B4455;\n",
              "      fill: #D2E3FC;\n",
              "    }\n",
              "\n",
              "    [theme=dark] .colab-df-convert:hover {\n",
              "      background-color: #434B5C;\n",
              "      box-shadow: 0px 1px 3px 1px rgba(0, 0, 0, 0.15);\n",
              "      filter: drop-shadow(0px 1px 2px rgba(0, 0, 0, 0.3));\n",
              "      fill: #FFFFFF;\n",
              "    }\n",
              "  </style>\n",
              "\n",
              "    <script>\n",
              "      const buttonEl =\n",
              "        document.querySelector('#df-83a7678e-1a55-4a0c-8ea0-811b85d25bb9 button.colab-df-convert');\n",
              "      buttonEl.style.display =\n",
              "        google.colab.kernel.accessAllowed ? 'block' : 'none';\n",
              "\n",
              "      async function convertToInteractive(key) {\n",
              "        const element = document.querySelector('#df-83a7678e-1a55-4a0c-8ea0-811b85d25bb9');\n",
              "        const dataTable =\n",
              "          await google.colab.kernel.invokeFunction('convertToInteractive',\n",
              "                                                    [key], {});\n",
              "        if (!dataTable) return;\n",
              "\n",
              "        const docLinkHtml = 'Like what you see? Visit the ' +\n",
              "          '<a target=\"_blank\" href=https://colab.research.google.com/notebooks/data_table.ipynb>data table notebook</a>'\n",
              "          + ' to learn more about interactive tables.';\n",
              "        element.innerHTML = '';\n",
              "        dataTable['output_type'] = 'display_data';\n",
              "        await google.colab.output.renderOutput(dataTable, element);\n",
              "        const docLink = document.createElement('div');\n",
              "        docLink.innerHTML = docLinkHtml;\n",
              "        element.appendChild(docLink);\n",
              "      }\n",
              "    </script>\n",
              "  </div>\n",
              "\n",
              "\n",
              "<div id=\"df-a03cfe7d-8873-448f-9678-4740c51a61a9\">\n",
              "  <button class=\"colab-df-quickchart\" onclick=\"quickchart('df-a03cfe7d-8873-448f-9678-4740c51a61a9')\"\n",
              "            title=\"Suggest charts\"\n",
              "            style=\"display:none;\">\n",
              "\n",
              "<svg xmlns=\"http://www.w3.org/2000/svg\" height=\"24px\"viewBox=\"0 0 24 24\"\n",
              "     width=\"24px\">\n",
              "    <g>\n",
              "        <path d=\"M19 3H5c-1.1 0-2 .9-2 2v14c0 1.1.9 2 2 2h14c1.1 0 2-.9 2-2V5c0-1.1-.9-2-2-2zM9 17H7v-7h2v7zm4 0h-2V7h2v10zm4 0h-2v-4h2v4z\"/>\n",
              "    </g>\n",
              "</svg>\n",
              "  </button>\n",
              "\n",
              "<style>\n",
              "  .colab-df-quickchart {\n",
              "      --bg-color: #E8F0FE;\n",
              "      --fill-color: #1967D2;\n",
              "      --hover-bg-color: #E2EBFA;\n",
              "      --hover-fill-color: #174EA6;\n",
              "      --disabled-fill-color: #AAA;\n",
              "      --disabled-bg-color: #DDD;\n",
              "  }\n",
              "\n",
              "  [theme=dark] .colab-df-quickchart {\n",
              "      --bg-color: #3B4455;\n",
              "      --fill-color: #D2E3FC;\n",
              "      --hover-bg-color: #434B5C;\n",
              "      --hover-fill-color: #FFFFFF;\n",
              "      --disabled-bg-color: #3B4455;\n",
              "      --disabled-fill-color: #666;\n",
              "  }\n",
              "\n",
              "  .colab-df-quickchart {\n",
              "    background-color: var(--bg-color);\n",
              "    border: none;\n",
              "    border-radius: 50%;\n",
              "    cursor: pointer;\n",
              "    display: none;\n",
              "    fill: var(--fill-color);\n",
              "    height: 32px;\n",
              "    padding: 0;\n",
              "    width: 32px;\n",
              "  }\n",
              "\n",
              "  .colab-df-quickchart:hover {\n",
              "    background-color: var(--hover-bg-color);\n",
              "    box-shadow: 0 1px 2px rgba(60, 64, 67, 0.3), 0 1px 3px 1px rgba(60, 64, 67, 0.15);\n",
              "    fill: var(--button-hover-fill-color);\n",
              "  }\n",
              "\n",
              "  .colab-df-quickchart-complete:disabled,\n",
              "  .colab-df-quickchart-complete:disabled:hover {\n",
              "    background-color: var(--disabled-bg-color);\n",
              "    fill: var(--disabled-fill-color);\n",
              "    box-shadow: none;\n",
              "  }\n",
              "\n",
              "  .colab-df-spinner {\n",
              "    border: 2px solid var(--fill-color);\n",
              "    border-color: transparent;\n",
              "    border-bottom-color: var(--fill-color);\n",
              "    animation:\n",
              "      spin 1s steps(1) infinite;\n",
              "  }\n",
              "\n",
              "  @keyframes spin {\n",
              "    0% {\n",
              "      border-color: transparent;\n",
              "      border-bottom-color: var(--fill-color);\n",
              "      border-left-color: var(--fill-color);\n",
              "    }\n",
              "    20% {\n",
              "      border-color: transparent;\n",
              "      border-left-color: var(--fill-color);\n",
              "      border-top-color: var(--fill-color);\n",
              "    }\n",
              "    30% {\n",
              "      border-color: transparent;\n",
              "      border-left-color: var(--fill-color);\n",
              "      border-top-color: var(--fill-color);\n",
              "      border-right-color: var(--fill-color);\n",
              "    }\n",
              "    40% {\n",
              "      border-color: transparent;\n",
              "      border-right-color: var(--fill-color);\n",
              "      border-top-color: var(--fill-color);\n",
              "    }\n",
              "    60% {\n",
              "      border-color: transparent;\n",
              "      border-right-color: var(--fill-color);\n",
              "    }\n",
              "    80% {\n",
              "      border-color: transparent;\n",
              "      border-right-color: var(--fill-color);\n",
              "      border-bottom-color: var(--fill-color);\n",
              "    }\n",
              "    90% {\n",
              "      border-color: transparent;\n",
              "      border-bottom-color: var(--fill-color);\n",
              "    }\n",
              "  }\n",
              "</style>\n",
              "\n",
              "  <script>\n",
              "    async function quickchart(key) {\n",
              "      const quickchartButtonEl =\n",
              "        document.querySelector('#' + key + ' button');\n",
              "      quickchartButtonEl.disabled = true;  // To prevent multiple clicks.\n",
              "      quickchartButtonEl.classList.add('colab-df-spinner');\n",
              "      try {\n",
              "        const charts = await google.colab.kernel.invokeFunction(\n",
              "            'suggestCharts', [key], {});\n",
              "      } catch (error) {\n",
              "        console.error('Error during call to suggestCharts:', error);\n",
              "      }\n",
              "      quickchartButtonEl.classList.remove('colab-df-spinner');\n",
              "      quickchartButtonEl.classList.add('colab-df-quickchart-complete');\n",
              "    }\n",
              "    (() => {\n",
              "      let quickchartButtonEl =\n",
              "        document.querySelector('#df-a03cfe7d-8873-448f-9678-4740c51a61a9 button');\n",
              "      quickchartButtonEl.style.display =\n",
              "        google.colab.kernel.accessAllowed ? 'block' : 'none';\n",
              "    })();\n",
              "  </script>\n",
              "</div>\n",
              "    </div>\n",
              "  </div>\n"
            ]
          },
          "metadata": {},
          "execution_count": 5
        }
      ]
    },
    {
      "cell_type": "code",
      "source": [
        "# CLASSES = (\"plane\", \"car\", \"bird\", \"cat\", \"deer\", \"dog\", \"frog\", \"horse\", \"ship\", \"truck\",)\n",
        "BATCH_SIZE = 32\n",
        "NUM_CLIENTS = 3\n",
        "\n",
        "vocab = list(set(' '.join(df['en'].values.tolist() + df['fr'].values.tolist())))\n",
        "vocab = [\"<s>\", \"</s>\", \"<pad>\"] + vocab\n",
        "ix2ch = {ix:ch for ix,ch in enumerate(vocab)}\n",
        "ch2ix = {ch:ix for ix,ch in ix2ch.items()}\n",
        "encode = lambda s: [ch2ix[c] for c in s]\n",
        "decode = lambda l: ''.join([ix2ch[i] for i in l])\n",
        "\n",
        "\n",
        "class NanoGptDataset(Dataset):\n",
        "    def __init__(self, texts: List[str]) -> None:\n",
        "        super().__init__()\n",
        "        self.texts = texts\n",
        "\n",
        "    def __len__(self) -> int:\n",
        "        return len(self.texts)\n",
        "\n",
        "    def __getitem__(self, ix: int):\n",
        "        text = self.texts[ix]\n",
        "#         text = ''.join([i if ord(i) < 128 else ' ' for i in text.strip])\n",
        "        input_ids = [ch2ix['<s>']] + encode(text) # [<s> a b c d   e ]\n",
        "        input_ids = input_ids[:256]\n",
        "        output_ids = input_ids[1:] + [ch2ix['</s>']] # [ a  b c d e </s>]\n",
        "        assert len(input_ids) == len(output_ids), print(input_ids, output_ids, \"\\n\\n======= Something went wrong when encoding the input and outputs ========\\n\\n\")\n",
        "        return  {\n",
        "            'input_ids': torch.tensor(input_ids, dtype=torch.long),\n",
        "            'labels': torch.tensor(output_ids, dtype=torch.long)\n",
        "        }\n",
        "\n",
        "\n",
        "def collate_fn(batch):\n",
        "    max_len = 0\n",
        "    for b in batch:\n",
        "        max_len = max(len(b['input_ids']), max_len)\n",
        "#         print({k:v.shape for k, v in b.items()})\n",
        "\n",
        "    res = None\n",
        "\n",
        "    for b in batch:\n",
        "        req_padding = max_len - len(b['input_ids'])\n",
        "        if res is None:\n",
        "            if req_padding == 0:\n",
        "                res = {k:v[None, ...] for k,v in b.items()}\n",
        "            else:\n",
        "                res = {\n",
        "                    'input_ids': torch.hstack([b['input_ids'], torch.tensor([ch2ix['<pad>']]*req_padding, dtype=torch.long)])[None, ...],\n",
        "                    'labels': torch.hstack([b['labels'],  torch.tensor([ch2ix['<pad>']]*req_padding, dtype=torch.long)])[None, ...]\n",
        "                }\n",
        "            continue\n",
        "\n",
        "        if res is not None:\n",
        "            if req_padding == 0:\n",
        "                res = {\n",
        "                    k: torch.cat([res[k], b[k].view(1, max_len)], dim=0) for k,v in res.items()\n",
        "                }\n",
        "            else:\n",
        "                tmp = {\n",
        "                    'input_ids': torch.hstack([b['input_ids'], torch.tensor([ch2ix['<pad>']]*req_padding, dtype=torch.long)])[None, ...],\n",
        "                    'labels': torch.hstack([b['labels'], torch.tensor([ch2ix['<pad>']]*req_padding, dtype=torch.long)])[None, ...]\n",
        "                }\n",
        "                res = {\n",
        "                    k: torch.cat([res[k], tmp[k].view(1, max_len)], dim=0) for k,v in res.items()\n",
        "                }\n",
        "    return res\n",
        "\n",
        "\n",
        "def load_datasets(train_texts: List[str], test_texts: List[str], num_clients: int):\n",
        "    trainset = NanoGptDataset(texts=train_texts)\n",
        "    testset = NanoGptDataset(texts=test_texts)\n",
        "\n",
        "    # Split training set into `num_clients` partitions to simulate different local datasets\n",
        "    partition_size = len(trainset) // num_clients\n",
        "    lengths = [partition_size] * num_clients\n",
        "    datasets = random_split(\n",
        "        trainset, lengths=lengths, generator=torch.Generator().manual_seed(42))\n",
        "\n",
        "    # Split each partition into train/val and create DataLoader\n",
        "    trainloaders = []\n",
        "    validloaders = []\n",
        "    for ds in datasets:\n",
        "        len_val = len(ds) // 10\n",
        "        len_train = len(ds) - len_val\n",
        "        lengths = [len_train, len_val]\n",
        "        print(lengths)\n",
        "        ds_train, ds_val = random_split(\n",
        "            ds, lengths=lengths, generator=torch.Generator().manual_seed(42)\n",
        "        )\n",
        "        trainloaders.append(DataLoader(ds_train, batch_size=BATCH_SIZE, shuffle=True, collate_fn=collate_fn))\n",
        "        validloaders.append(DataLoader(ds_val, batch_size=BATCH_SIZE, collate_fn=collate_fn))\n",
        "    testloader = DataLoader(testset, batch_size=BATCH_SIZE, collate_fn=collate_fn)\n",
        "    return trainloaders, validloaders, testloader"
      ],
      "metadata": {
        "id": "RbukSXWyGIgj"
      },
      "execution_count": 6,
      "outputs": []
    },
    {
      "cell_type": "code",
      "source": [
        "texts = df['en'].values.tolist() + df['fr'].values.tolist()\n",
        "import random\n",
        "random.shuffle(texts)\n",
        "\n",
        "train_texts = texts[:18000]\n",
        "test_texts = texts[18000:]\n",
        "\n",
        "trainloaders, validloaders, testloader = load_datasets(train_texts=train_texts, test_texts=test_texts, num_clients=NUM_CLIENTS)"
      ],
      "metadata": {
        "colab": {
          "base_uri": "https://localhost:8080/"
        },
        "id": "rmOpvMuQGJvT",
        "outputId": "1d0eb833-7baf-4b7b-fd37-d638763f5ba2"
      },
      "execution_count": 7,
      "outputs": [
        {
          "output_type": "stream",
          "name": "stdout",
          "text": [
            "[5400, 600]\n",
            "[5400, 600]\n",
            "[5400, 600]\n"
          ]
        }
      ]
    },
    {
      "cell_type": "markdown",
      "source": [
        "## Step 1: Centralized Training with PyTorch\n",
        "\n",
        "### Define a model"
      ],
      "metadata": {
        "id": "eunByRqxGQgD"
      }
    },
    {
      "cell_type": "code",
      "source": [
        "import math\n",
        "from dataclasses import dataclass\n",
        "\n",
        "import torch\n",
        "import torch.nn as nn\n",
        "import torch.nn.functional as F\n",
        "\n",
        "\n",
        "# ---------------------------------- Config ---------------------------------- #\n",
        "@dataclass\n",
        "class GPTConfig:\n",
        "    buffer_size: int = 256\n",
        "    vocab_size: int =  len(vocab) # 50304  # GPT2 has a total of 50257, padded to nearest multiple of 64 for efficiency\n",
        "    n_layers: int = 3\n",
        "    n_head: int = 4\n",
        "    n_embed: int = 368\n",
        "    dropout: float = 0.1\n",
        "    bias: bool = False\n",
        "    use_sinusoidal: bool = True\n",
        "\n",
        "\n",
        "# ----------------------------- Attention Module ----------------------------- #\n",
        "class Attention(nn.Module):\n",
        "    '''Unlike RNNs where we were required to get one output and then pass it back onto the RNN and repeat the process\n",
        "    again and again, here with masked attention, we simply find the lower triangular matrix and then weight them according\n",
        "    the vector product the lower triangular matrix and the embedding vectors, we  build a masked representation for each word only using\n",
        "    the values which occured/was predicted prior to the current index.\n",
        "        - This is achieved by the torch.tril function and masking all zeros to -torch.inf (taking softmax makes it equal to zero)\n",
        "    '''\n",
        "    def __init__(self, n_embed: int, head_size: int) -> None:\n",
        "        super().__init__()\n",
        "        self.Q = nn.Linear(n_embed, head_size, bias=GPTConfig.bias)\n",
        "        self.K = nn.Linear(n_embed, head_size, bias=GPTConfig.bias)\n",
        "        self.V = nn.Linear(n_embed, head_size, bias=GPTConfig.bias)\n",
        "        tril = torch.tril(\n",
        "            torch.ones(size=(GPTConfig.buffer_size, GPTConfig.buffer_size))\n",
        "        )\n",
        "        self.register_buffer(\"tril\", tril)\n",
        "\n",
        "    def forward(self, x: torch.Tensor) -> torch.Tensor:\n",
        "        _, T, _ = x.shape\n",
        "        q, k, v = self.Q(x), self.K(x), self.V(x)  # (B, T, C) => (B, T, H)\n",
        "        wei = (\n",
        "            q @ k.mT * (1.0 / math.sqrt(k.size(-1)))\n",
        "        )  # (B, T, H) @ (B, H, T) = (B, T, T)\n",
        "        wei = wei.masked_fill(self.tril[:T, :T] == 0, float(\"-inf\"))\n",
        "        wei = F.softmax(wei, dim=-1)\n",
        "        return wei @ v  # (B, T, T) @ (B, T, H) => (B, T, H)\n",
        "\n",
        "\n",
        "# --------------------------- Multi Head Attention --------------------------- #\n",
        "class MultiHeadAttention(nn.Module):\n",
        "    def __init__(self, n_embed: int, n_heads: int) -> None:\n",
        "        super().__init__()\n",
        "        assert (\n",
        "            n_embed % n_heads == 0\n",
        "        ), \"The number of heads must divide the embedding dimensions\"\n",
        "        head_size = n_embed // n_heads\n",
        "        self.heads = nn.ModuleList(\n",
        "            [Attention(n_embed=n_embed, head_size=head_size) for _ in range(n_heads)]\n",
        "        )\n",
        "        self.proj = nn.Linear(n_embed, n_embed, bias=GPTConfig.bias)\n",
        "        self.dropout = nn.Dropout(p=GPTConfig.dropout)\n",
        "\n",
        "    def forward(self, x: torch.Tensor) -> torch.Tensor:\n",
        "        x = torch.cat([h(x) for h in self.heads], dim=-1) # (B, T, C) -> (B, T, C//N_HEADS) -> (B, T, C)\n",
        "        return self.dropout(self.proj(x)) #  (B, T, C) -> (B, T, C)\n",
        "\n",
        "\n",
        "# ------------------------------- Feed Forward ------------------------------- #\n",
        "class FeedForward(nn.Module):\n",
        "    def __init__(self, n_embed: int) -> None:\n",
        "        super().__init__()\n",
        "        self.net = nn.Sequential(\n",
        "            nn.Linear(n_embed, 4 * n_embed), nn.GELU(), nn.Linear(4 * n_embed, n_embed)\n",
        "        )\n",
        "\n",
        "    def forward(self, x: torch.Tensor) -> torch.Tensor:\n",
        "        return self.net(x)\n",
        "\n",
        "\n",
        "# ------------------------------ Attention Block ----------------------------- #\n",
        "class AttentionBlock(nn.Module):\n",
        "    def __init__(self, n_embed: int, n_heads: int) -> None:\n",
        "        super().__init__()\n",
        "        self.sa = MultiHeadAttention(n_embed=n_embed, n_heads=n_heads)\n",
        "        self.ffwd = FeedForward(n_embed=n_embed)\n",
        "        self.ln1 = nn.LayerNorm((n_embed,))\n",
        "        self.ln2 = nn.LayerNorm((n_embed,))\n",
        "\n",
        "    def forward(self, x: torch.Tensor) -> torch.Tensor:\n",
        "        x = x + self.sa(self.ln1(x)) # (B, T, C) -> (B, T, C)\n",
        "        x = x + self.ffwd(self.ln2(x))\n",
        "        return x\n",
        "\n",
        "\n",
        "# --------------------------- Positional Embeddings -------------------------- #\n",
        "class PositionalEncoding(nn.Module):\n",
        "    def __init__(self, n_embed: int, max_seq_len: int) -> None:\n",
        "        super().__init__()\n",
        "\n",
        "        position_id = torch.arange(0, max_seq_len).unsqueeze(1)\n",
        "        frequencies = torch.arange(0, n_embed, 2, dtype=torch.float32) / n_embed\n",
        "        frequencies = torch.pow(10000.0, -frequencies)\n",
        "\n",
        "        positional_encodings = torch.zeros(size=(max_seq_len, n_embed))\n",
        "        # print(frequencies.shape, position_id.shape, positional_encodings.shape)\n",
        "\n",
        "        positional_encodings[:, 0::2] = torch.sin(position_id * frequencies)\n",
        "        positional_encodings[:, 1::2] = torch.cos(position_id * frequencies)\n",
        "\n",
        "        self.register_buffer(\"positional_encodings\", positional_encodings)\n",
        "\n",
        "        self.dropout = nn.Dropout(p=GPTConfig.dropout)\n",
        "\n",
        "    def forward(self, x: torch.Tensor) -> torch.Tensor:\n",
        "        pos_encodings = self.positional_encodings[: x.shape[1]]\n",
        "        return self.dropout(pos_encodings + x)\n",
        "\n",
        "\n",
        "# ------------------------------ NanoGPT Module ------------------------------ #\n",
        "class NanoGPT(nn.Module):\n",
        "    def __init__(\n",
        "        self,\n",
        "        vocab_size: int,\n",
        "        n_embed: int,\n",
        "        n_heads: int,\n",
        "        buffer_size: int,\n",
        "        n_blocks: int,\n",
        "    ) -> None:\n",
        "        super().__init__()\n",
        "        self.vocab_size = vocab_size\n",
        "        self.n_embed = n_embed\n",
        "        self.n_heads = n_heads\n",
        "        self.buffer_size = buffer_size\n",
        "        self.n_blocks = n_blocks\n",
        "\n",
        "        self.token_embeddings = nn.Embedding(\n",
        "            num_embeddings=vocab_size, embedding_dim=n_embed\n",
        "        )\n",
        "\n",
        "        if GPTConfig.use_sinusoidal:\n",
        "            self.positional_encodings = PositionalEncoding(\n",
        "                n_embed=n_embed, max_seq_len=GPTConfig.buffer_size\n",
        "            )\n",
        "        else:\n",
        "            self.positional_encodings = nn.Embedding(\n",
        "                num_embeddings=GPTConfig.buffer_size, embedding_dim=n_embed\n",
        "            )\n",
        "\n",
        "        self.blocks = nn.Sequential(\n",
        "            *[AttentionBlock(n_embed=n_embed, n_heads=n_heads) for _ in range(n_blocks)]\n",
        "        )\n",
        "        self.ln = nn.LayerNorm((n_embed,))\n",
        "        self.lm_head = nn.Sequential(\n",
        "            nn.Linear(n_embed, n_embed // 2), nn.GELU(), nn.Linear(n_embed//2, vocab_size)\n",
        "        )\n",
        "\n",
        "    def forward(\n",
        "        self, input_ids: torch.Tensor, labels: torch.Tensor = None\n",
        "    ) -> torch.Tensor:\n",
        "        B, T = input_ids.shape\n",
        "        tok_emb = self.token_embeddings(input_ids) # (B, T, C)\n",
        "        if GPTConfig.use_sinusoidal:\n",
        "            x = self.positional_encodings.forward(tok_emb) # (B, T, C) -> (B, T, C)\n",
        "        else:\n",
        "            x = tok_emb + self.positional_encodings(\n",
        "                torch.arange(T, dtype=torch.long, device=input_ids.shape)\n",
        "            ) # (B, T, C) -> (B, T, C)\n",
        "        x = self.blocks(x)\n",
        "        x = self.ln(x)\n",
        "        x = self.lm_head(x)\n",
        "\n",
        "        loss = None\n",
        "        if labels is not None:\n",
        "            B, T, C = x.shape\n",
        "            loss = F.cross_entropy(x.view(B * T, C), labels.view(B * T))\n",
        "\n",
        "        return x, loss\n",
        "\n",
        "    def generate(\n",
        "        self, ids: torch.Tensor, max_len: int, temperature: float = 0.7\n",
        "    ) -> int:\n",
        "        for _ in range(max_len):\n",
        "            ids_cond = ids[:, -GPTConfig.buffer_size :]\n",
        "            logits, _ = self.forward(input_ids=ids_cond, labels=None)\n",
        "            logit = logits[:, -1, :]\n",
        "            probs = F.softmax(logit, dim=-1)\n",
        "            val, idx = torch.topk(probs, k=int(probs.shape[1] * temperature), dim=-1)\n",
        "            # print(val[0][0])\n",
        "            idx_next = torch.multinomial(val, num_samples=1)\n",
        "            idx_next = idx[:, idx_next][0]\n",
        "            ids = torch.cat([ids, idx_next], dim=-1)\n",
        "            if idx_next == 0:\n",
        "                break\n",
        "        return ids\n",
        "\n",
        "\n",
        "if __name__ == \"__main__\":\n",
        "    model = NanoGPT(\n",
        "        vocab_size=GPTConfig.vocab_size,\n",
        "        n_embed=GPTConfig.n_embed,\n",
        "        n_heads=GPTConfig.n_head,\n",
        "        buffer_size=GPTConfig.buffer_size,\n",
        "        n_blocks=GPTConfig.n_layers,\n",
        "    )\n",
        "\n",
        "    print(model)"
      ],
      "metadata": {
        "colab": {
          "base_uri": "https://localhost:8080/"
        },
        "id": "F1qhUERZGSrn",
        "outputId": "12bd04b3-a643-4ecb-a3db-501f67b2f084"
      },
      "execution_count": 8,
      "outputs": [
        {
          "output_type": "stream",
          "name": "stdout",
          "text": [
            "NanoGPT(\n",
            "  (token_embeddings): Embedding(162, 368)\n",
            "  (positional_encodings): PositionalEncoding(\n",
            "    (dropout): Dropout(p=0.1, inplace=False)\n",
            "  )\n",
            "  (blocks): Sequential(\n",
            "    (0): AttentionBlock(\n",
            "      (sa): MultiHeadAttention(\n",
            "        (heads): ModuleList(\n",
            "          (0-3): 4 x Attention(\n",
            "            (Q): Linear(in_features=368, out_features=92, bias=False)\n",
            "            (K): Linear(in_features=368, out_features=92, bias=False)\n",
            "            (V): Linear(in_features=368, out_features=92, bias=False)\n",
            "          )\n",
            "        )\n",
            "        (proj): Linear(in_features=368, out_features=368, bias=False)\n",
            "        (dropout): Dropout(p=0.1, inplace=False)\n",
            "      )\n",
            "      (ffwd): FeedForward(\n",
            "        (net): Sequential(\n",
            "          (0): Linear(in_features=368, out_features=1472, bias=True)\n",
            "          (1): GELU(approximate='none')\n",
            "          (2): Linear(in_features=1472, out_features=368, bias=True)\n",
            "        )\n",
            "      )\n",
            "      (ln1): LayerNorm((368,), eps=1e-05, elementwise_affine=True)\n",
            "      (ln2): LayerNorm((368,), eps=1e-05, elementwise_affine=True)\n",
            "    )\n",
            "    (1): AttentionBlock(\n",
            "      (sa): MultiHeadAttention(\n",
            "        (heads): ModuleList(\n",
            "          (0-3): 4 x Attention(\n",
            "            (Q): Linear(in_features=368, out_features=92, bias=False)\n",
            "            (K): Linear(in_features=368, out_features=92, bias=False)\n",
            "            (V): Linear(in_features=368, out_features=92, bias=False)\n",
            "          )\n",
            "        )\n",
            "        (proj): Linear(in_features=368, out_features=368, bias=False)\n",
            "        (dropout): Dropout(p=0.1, inplace=False)\n",
            "      )\n",
            "      (ffwd): FeedForward(\n",
            "        (net): Sequential(\n",
            "          (0): Linear(in_features=368, out_features=1472, bias=True)\n",
            "          (1): GELU(approximate='none')\n",
            "          (2): Linear(in_features=1472, out_features=368, bias=True)\n",
            "        )\n",
            "      )\n",
            "      (ln1): LayerNorm((368,), eps=1e-05, elementwise_affine=True)\n",
            "      (ln2): LayerNorm((368,), eps=1e-05, elementwise_affine=True)\n",
            "    )\n",
            "    (2): AttentionBlock(\n",
            "      (sa): MultiHeadAttention(\n",
            "        (heads): ModuleList(\n",
            "          (0-3): 4 x Attention(\n",
            "            (Q): Linear(in_features=368, out_features=92, bias=False)\n",
            "            (K): Linear(in_features=368, out_features=92, bias=False)\n",
            "            (V): Linear(in_features=368, out_features=92, bias=False)\n",
            "          )\n",
            "        )\n",
            "        (proj): Linear(in_features=368, out_features=368, bias=False)\n",
            "        (dropout): Dropout(p=0.1, inplace=False)\n",
            "      )\n",
            "      (ffwd): FeedForward(\n",
            "        (net): Sequential(\n",
            "          (0): Linear(in_features=368, out_features=1472, bias=True)\n",
            "          (1): GELU(approximate='none')\n",
            "          (2): Linear(in_features=1472, out_features=368, bias=True)\n",
            "        )\n",
            "      )\n",
            "      (ln1): LayerNorm((368,), eps=1e-05, elementwise_affine=True)\n",
            "      (ln2): LayerNorm((368,), eps=1e-05, elementwise_affine=True)\n",
            "    )\n",
            "  )\n",
            "  (ln): LayerNorm((368,), eps=1e-05, elementwise_affine=True)\n",
            "  (lm_head): Sequential(\n",
            "    (0): Linear(in_features=368, out_features=184, bias=True)\n",
            "    (1): GELU(approximate='none')\n",
            "    (2): Linear(in_features=184, out_features=162, bias=True)\n",
            "  )\n",
            ")\n"
          ]
        }
      ]
    },
    {
      "cell_type": "markdown",
      "source": [
        "### Engine funcs"
      ],
      "metadata": {
        "id": "3AmjQJGeGbWA"
      }
    },
    {
      "cell_type": "code",
      "source": [
        "def train_fn(net: NanoGPT, trainloader: torch.utils.data.DataLoader, epochs: int):\n",
        "    loss_fct = nn.CrossEntropyLoss()\n",
        "    optimizer = torch.optim.Adam(net.parameters(), lr=3e-4)\n",
        "    net.train()\n",
        "\n",
        "    for epoch in range(epochs):\n",
        "        # print('#'*15)\n",
        "        # print(f'### Epoch {epoch+1}/{epochs}')\n",
        "        # print('#'*15)\n",
        "\n",
        "        # pbar = tqdm(trainloader, total=len(trainloader), desc='(train)')\n",
        "        correct, total, running_loss = 0, 0, 0.0\n",
        "\n",
        "        for batch in trainloader:\n",
        "            X, y = batch['input_ids'], batch['labels']\n",
        "            X, y = X.to(DEVICE), y.to(DEVICE)\n",
        "\n",
        "            optimizer.zero_grad()\n",
        "            yHat, loss = net.forward(input_ids=X, labels=y)\n",
        "            loss.backward()\n",
        "            optimizer.step()\n",
        "\n",
        "            running_loss += loss.item()\n",
        "            total += y.size(0)\n",
        "#             correct += (torch.argmax(yHat.data, dim=1) == y).sum().item()\n",
        "\n",
        "            epoch_loss = running_loss / total\n",
        "            # epoch_accuracy = correct / total\n",
        "\n",
        "#             pbar.set_postfix({\n",
        "#                 'loss': f'{epoch_loss:.4f}',\n",
        "# #                 'accuracy': f'{epoch_accuracy*100:.4f}%'\n",
        "#             })\n",
        "\n",
        "        print(f'Epoch {epoch+1}: train loss {epoch_loss}')\n",
        "\n",
        "\n",
        "@torch.no_grad()\n",
        "def eval_fn(net: NanoGPT, testloader: torch.utils.data.DataLoader):\n",
        "    loss_fct = nn.CrossEntropyLoss()\n",
        "    correct, total, running_loss = 0., 0., 0.\n",
        "    net.eval()\n",
        "\n",
        "    # pbar = tqdm(testloader, total=len(testloader), desc='(eval)')\n",
        "\n",
        "    for batch in testloader:\n",
        "        X, y = batch['input_ids'], batch['labels']\n",
        "        X, y = X.to(DEVICE), y.to(DEVICE)\n",
        "\n",
        "        yHat, loss = net.forward(input_ids=X, labels=y)\n",
        "\n",
        "        running_loss += loss.item()\n",
        "        total += y.size(0)\n",
        "#         correct += (torch.argmax(yHat.data, dim=1) == y).sum().item()\n",
        "\n",
        "        epoch_loss = running_loss / total\n",
        "#         epoch_accuracy = correct / total\n",
        "\n",
        "#         pbar.set_postfix({\n",
        "#             'loss': f'{epoch_loss:.4f}',\n",
        "# #             'accuracy': f'{epoch_accuracy*100:.4f}%'\n",
        "#         })\n",
        "\n",
        "    return epoch_loss#, epoch_accuracy"
      ],
      "metadata": {
        "id": "yu1nWUlKGeWV"
      },
      "execution_count": 9,
      "outputs": []
    },
    {
      "cell_type": "code",
      "source": [
        "trainloader = trainloaders[0]\n",
        "valloader = validloaders[0]\n",
        "net = NanoGPT(\n",
        "    vocab_size=GPTConfig.vocab_size,\n",
        "    n_embed=GPTConfig.n_embed,\n",
        "    n_heads=GPTConfig.n_head,\n",
        "    buffer_size=GPTConfig.buffer_size,\n",
        "    n_blocks=GPTConfig.n_layers,\n",
        ").to(DEVICE)\n",
        "\n",
        "for epoch in range(5):\n",
        "    train_fn(net, trainloader, 1)\n",
        "    loss = eval_fn(net, valloader)\n",
        "    print(f\"Epoch {epoch+1}: validation loss {loss}\")\n",
        "\n",
        "loss = eval_fn(net, testloader)\n",
        "print(f\"Final test set performance:\\n\\tloss {loss}\")"
      ],
      "metadata": {
        "colab": {
          "base_uri": "https://localhost:8080/"
        },
        "id": "RJo-OnJIGem1",
        "outputId": "84426683-9d4a-430d-90b0-45d9ba98e74f"
      },
      "execution_count": 10,
      "outputs": [
        {
          "output_type": "stream",
          "name": "stdout",
          "text": [
            "Epoch 1: train loss 0.04706170739950957\n",
            "Epoch 1: validation loss 0.03903460184733073\n",
            "Epoch 1: train loss 0.03769006145221216\n",
            "Epoch 2: validation loss 0.03686038891474406\n",
            "Epoch 1: train loss 0.03551535078772792\n",
            "Epoch 3: validation loss 0.034393905500570934\n",
            "Epoch 1: train loss 0.03345601029970028\n",
            "Epoch 4: validation loss 0.032225391070048015\n",
            "Epoch 1: train loss 0.031660262942314145\n",
            "Epoch 5: validation loss 0.030314618150393168\n",
            "Final test set performance:\n",
            "\tloss 0.030108210704296066\n"
          ]
        }
      ]
    },
    {
      "cell_type": "markdown",
      "source": [
        "## Step 2: Federated Learning\n",
        "\n",
        "### Updating model parameters"
      ],
      "metadata": {
        "id": "tSG3OVlrHOT9"
      }
    },
    {
      "cell_type": "code",
      "source": [
        "def get_parameters(net: NanoGPT) -> List[np.array]:\n",
        "    return [val.cpu().numpy() for _, val in net.state_dict().items()]\n",
        "\n",
        "def set_parameters(net: NanoGPT, parameters: List[np.ndarray]):\n",
        "    params_dict = zip(net.state_dict().keys(), parameters)\n",
        "    state_dict = OrderedDict({k: torch.tensor(v) for k,v in params_dict})\n",
        "    net.load_state_dict(state_dict, strict=True)"
      ],
      "metadata": {
        "id": "07Nsb7ZoHZGn"
      },
      "execution_count": 11,
      "outputs": []
    },
    {
      "cell_type": "markdown",
      "source": [
        "### Client"
      ],
      "metadata": {
        "id": "W9006J4JHaRR"
      }
    },
    {
      "cell_type": "code",
      "source": [
        "class FlowerClient(fl.client.NumPyClient):\n",
        "    def __init__(self, cid: str, net: NanoGPT, trainloader: torch.utils.data.DataLoader, validloader: torch.utils.data.DataLoader) -> None:\n",
        "        self.cid = cid\n",
        "        self.net = net\n",
        "        self.trainloader = trainloader\n",
        "        self.validloader = validloader\n",
        "\n",
        "    def get_parameters(self, config):\n",
        "        print(f\"[Client {self.cid}] get_parameters\")\n",
        "        return get_parameters(self.net)\n",
        "\n",
        "    def fit(self, parameters, config):\n",
        "        server_round = config[\"server_round\"]\n",
        "        local_epochs = config[\"local_epochs\"]\n",
        "\n",
        "        print(f\"[Client {self.cid}, round {server_round}] fit, config: {config}\")\n",
        "        set_parameters(self.net, parameters)\n",
        "        train_fn(self.net, self.trainloader, epochs=local_epochs)\n",
        "        return get_parameters(self.net), len(self.trainloader), {}\n",
        "\n",
        "    def evaluate(self, parameters, config):\n",
        "        print(f\"[Client {self.cid}] evaluate: config: {config}\")\n",
        "        set_parameters(self.net, parameters)\n",
        "        loss = eval_fn(self.net, self.validloader)\n",
        "        return float(loss), len(self.validloader), {\"loss\": float(loss)}"
      ],
      "metadata": {
        "id": "QmhcssnNHbiI"
      },
      "execution_count": 12,
      "outputs": []
    },
    {
      "cell_type": "markdown",
      "source": [
        "### Virtual Client Engine"
      ],
      "metadata": {
        "id": "uHxiKCLWHco0"
      }
    },
    {
      "cell_type": "code",
      "source": [
        "def client_fn(cid: str) -> FlowerClient:\n",
        "    net = NanoGPT(\n",
        "        vocab_size=GPTConfig.vocab_size,\n",
        "        n_embed=GPTConfig.n_embed,\n",
        "        n_heads=GPTConfig.n_head,\n",
        "        buffer_size=GPTConfig.buffer_size,\n",
        "        n_blocks=GPTConfig.n_layers,\n",
        "    ).to(DEVICE)\n",
        "    trainloader = trainloaders[int(cid)]\n",
        "    validloader = validloaders[int(cid)]\n",
        "    return FlowerClient(cid=cid, net=net, trainloader=trainloader, validloader=validloader)"
      ],
      "metadata": {
        "id": "5NmFlnxmHfb5"
      },
      "execution_count": 13,
      "outputs": []
    },
    {
      "cell_type": "markdown",
      "source": [
        "## Starting training"
      ],
      "metadata": {
        "id": "BWRzEX0aHfoF"
      }
    },
    {
      "cell_type": "markdown",
      "source": [
        "### Server Side Evaluation"
      ],
      "metadata": {
        "id": "ngBBsztFHrdq"
      }
    },
    {
      "cell_type": "code",
      "source": [
        "def evaluate_fn(\n",
        "    server_round: int,\n",
        "    parameters: fl.common.NDArrays,\n",
        "    config: Dict[str, fl.common.Scalar]\n",
        ") -> Optional[Tuple[float, Dict[str, fl.common.Scalar]]]:\n",
        "    net = NanoGPT(\n",
        "        vocab_size=GPTConfig.vocab_size,\n",
        "        n_embed=GPTConfig.n_embed,\n",
        "        n_heads=GPTConfig.n_head,\n",
        "        buffer_size=GPTConfig.buffer_size,\n",
        "        n_blocks=GPTConfig.n_layers,\n",
        "    ).to(DEVICE)\n",
        "    set_parameters(net, parameters)\n",
        "    loss = eval_fn(net, testloader=testloader)\n",
        "    print(f\"\\n\\n>>> Server-side evaluation loss {loss}\\n\\n\")\n",
        "    # del net\n",
        "    return loss, {\"loss\": loss}"
      ],
      "metadata": {
        "id": "w6UvwnLCHtC7"
      },
      "execution_count": 14,
      "outputs": []
    },
    {
      "cell_type": "code",
      "source": [
        "def fit_config_fn(server_round: int):\n",
        "    \"\"\"Return training config dict for each round.\n",
        "\n",
        "    Perform two rounds of training with one local epoch, increase two local\n",
        "    epochs afterwards\n",
        "    \"\"\"\n",
        "    config = {\n",
        "        \"server_round\": server_round,\n",
        "        \"local_epochs\": 2 if server_round < 2 else 3\n",
        "    }\n",
        "    return config"
      ],
      "metadata": {
        "id": "yDSoCkEgH7Rx"
      },
      "execution_count": 15,
      "outputs": []
    },
    {
      "cell_type": "code",
      "source": [
        "strategy = fl.server.strategy.FedAvg(\n",
        "    fraction_fit=1.0,              # Sample 100% of the available clients for training\n",
        "    fraction_evaluate=0.5,         # Sample 50% of available clients for eval\n",
        "    min_fit_clients=NUM_CLIENTS,            # Never sample less than 10 clients for training\n",
        "    min_evaluate_clients=NUM_CLIENTS,        # Never sample less than 5 clients for eval\n",
        "    min_available_clients=NUM_CLIENTS,      # Wait until all 10 clients are available\n",
        "    evaluate_fn=evaluate_fn,       # Evaluate function after every round\n",
        "    on_fit_config_fn=fit_config_fn # Fit Config\n",
        ")\n",
        "\n",
        "client_resources = None\n",
        "if DEVICE.type == \"cuda\":\n",
        "    import multiprocessing\n",
        "    client_resources = {\"num_gpus\": 1, \"num_cpus\": multiprocessing.cpu_count()}\n",
        "\n",
        "fl.simulation.start_simulation(\n",
        "    client_fn=client_fn,\n",
        "    num_clients=NUM_CLIENTS,\n",
        "    config=fl.server.ServerConfig(num_rounds=5),\n",
        "    strategy=strategy,\n",
        "    client_resources=client_resources\n",
        ")"
      ],
      "metadata": {
        "colab": {
          "base_uri": "https://localhost:8080/"
        },
        "id": "zBL3Nh-4H8jK",
        "outputId": "2c4ed382-5136-42a9-fd85-286fc92573f5"
      },
      "execution_count": 16,
      "outputs": [
        {
          "metadata": {
            "tags": null
          },
          "name": "stderr",
          "output_type": "stream",
          "text": [
            "INFO flwr 2023-11-08 15:37:54,486 | app.py:175 | Starting Flower simulation, config: ServerConfig(num_rounds=5, round_timeout=None)\n",
            "INFO:flwr:Starting Flower simulation, config: ServerConfig(num_rounds=5, round_timeout=None)\n",
            "2023-11-08 15:37:57,160\tINFO worker.py:1621 -- Started a local Ray instance.\n",
            "INFO flwr 2023-11-08 15:37:59,759 | app.py:210 | Flower VCE: Ray initialized with resources: {'CPU': 2.0, 'memory': 7825924916.0, 'node:__internal_head__': 1.0, 'object_store_memory': 3912962457.0, 'GPU': 1.0, 'node:172.28.0.12': 1.0}\n",
            "INFO:flwr:Flower VCE: Ray initialized with resources: {'CPU': 2.0, 'memory': 7825924916.0, 'node:__internal_head__': 1.0, 'object_store_memory': 3912962457.0, 'GPU': 1.0, 'node:172.28.0.12': 1.0}\n",
            "INFO flwr 2023-11-08 15:37:59,766 | app.py:224 | Flower VCE: Resources for each Virtual Client: {'num_gpus': 1, 'num_cpus': 2}\n",
            "INFO:flwr:Flower VCE: Resources for each Virtual Client: {'num_gpus': 1, 'num_cpus': 2}\n",
            "INFO flwr 2023-11-08 15:37:59,829 | app.py:270 | Flower VCE: Creating VirtualClientEngineActorPool with 1 actors\n",
            "INFO:flwr:Flower VCE: Creating VirtualClientEngineActorPool with 1 actors\n",
            "INFO flwr 2023-11-08 15:37:59,832 | server.py:89 | Initializing global parameters\n",
            "INFO:flwr:Initializing global parameters\n",
            "INFO flwr 2023-11-08 15:37:59,839 | server.py:276 | Requesting initial parameters from one random client\n",
            "INFO:flwr:Requesting initial parameters from one random client\n",
            "\u001b[2m\u001b[36m(pid=21665)\u001b[0m 2023-11-08 15:38:01.972182: E tensorflow/compiler/xla/stream_executor/cuda/cuda_dnn.cc:9342] Unable to register cuDNN factory: Attempting to register factory for plugin cuDNN when one has already been registered\n",
            "\u001b[2m\u001b[36m(pid=21665)\u001b[0m 2023-11-08 15:38:01.972240: E tensorflow/compiler/xla/stream_executor/cuda/cuda_fft.cc:609] Unable to register cuFFT factory: Attempting to register factory for plugin cuFFT when one has already been registered\n",
            "\u001b[2m\u001b[36m(pid=21665)\u001b[0m 2023-11-08 15:38:01.972276: E tensorflow/compiler/xla/stream_executor/cuda/cuda_blas.cc:1518] Unable to register cuBLAS factory: Attempting to register factory for plugin cuBLAS when one has already been registered\n",
            "\u001b[2m\u001b[36m(pid=21665)\u001b[0m 2023-11-08 15:38:03.573364: W tensorflow/compiler/tf2tensorrt/utils/py_utils.cc:38] TF-TRT Warning: Could not find TensorRT\n",
            "INFO flwr 2023-11-08 15:38:06,974 | server.py:280 | Received initial parameters from one random client\n",
            "INFO:flwr:Received initial parameters from one random client\n",
            "INFO flwr 2023-11-08 15:38:06,978 | server.py:91 | Evaluating initial parameters\n",
            "INFO:flwr:Evaluating initial parameters\n"
          ]
        },
        {
          "metadata": {
            "tags": null
          },
          "name": "stdout",
          "output_type": "stream",
          "text": [
            "\u001b[2m\u001b[36m(DefaultActor pid=21665)\u001b[0m [Client 1] get_parameters\n"
          ]
        },
        {
          "metadata": {
            "tags": null
          },
          "name": "stderr",
          "output_type": "stream",
          "text": [
            "INFO flwr 2023-11-08 15:38:34,053 | server.py:94 | initial parameters (loss, other metrics): 0.15957860561249115, {'loss': 0.15957860561249115}\n",
            "INFO:flwr:initial parameters (loss, other metrics): 0.15957860561249115, {'loss': 0.15957860561249115}\n",
            "INFO flwr 2023-11-08 15:38:34,061 | server.py:104 | FL starting\n",
            "INFO:flwr:FL starting\n",
            "DEBUG flwr 2023-11-08 15:38:34,065 | server.py:222 | fit_round 1: strategy sampled 3 clients (out of 3)\n",
            "DEBUG:flwr:fit_round 1: strategy sampled 3 clients (out of 3)\n"
          ]
        },
        {
          "metadata": {
            "tags": null
          },
          "name": "stdout",
          "output_type": "stream",
          "text": [
            "\n",
            "\n",
            ">>> Server-side evaluation loss 0.15957860561249115\n",
            "\n",
            "\n",
            "\u001b[2m\u001b[36m(DefaultActor pid=21665)\u001b[0m [Client 1, round 1] fit, config: {'server_round': 1, 'local_epochs': 2}\n",
            "\u001b[2m\u001b[36m(DefaultActor pid=21665)\u001b[0m Epoch 1: train loss 0.04636669856530649\n",
            "\u001b[2m\u001b[36m(DefaultActor pid=21665)\u001b[0m Epoch 2: train loss 0.03813780644425639\n",
            "\u001b[2m\u001b[36m(DefaultActor pid=21665)\u001b[0m [Client 2, round 1] fit, config: {'server_round': 1, 'local_epochs': 2}\n",
            "\u001b[2m\u001b[36m(DefaultActor pid=21665)\u001b[0m Epoch 1: train loss 0.04545743770069546\n",
            "\u001b[2m\u001b[36m(DefaultActor pid=21665)\u001b[0m Epoch 2: train loss 0.03756315581224583\n",
            "\u001b[2m\u001b[36m(DefaultActor pid=21665)\u001b[0m [Client 0, round 1] fit, config: {'server_round': 1, 'local_epochs': 2}\n",
            "\u001b[2m\u001b[36m(DefaultActor pid=21665)\u001b[0m Epoch 1: train loss 0.04547571611625177\n"
          ]
        },
        {
          "metadata": {
            "tags": null
          },
          "name": "stderr",
          "output_type": "stream",
          "text": [
            "DEBUG flwr 2023-11-08 15:40:26,344 | server.py:236 | fit_round 1 received 3 results and 0 failures\n",
            "DEBUG:flwr:fit_round 1 received 3 results and 0 failures\n"
          ]
        },
        {
          "metadata": {
            "tags": null
          },
          "name": "stdout",
          "output_type": "stream",
          "text": [
            "\u001b[2m\u001b[36m(DefaultActor pid=21665)\u001b[0m Epoch 2: train loss 0.03760082590359229\n"
          ]
        },
        {
          "metadata": {
            "tags": null
          },
          "name": "stderr",
          "output_type": "stream",
          "text": [
            "WARNING flwr 2023-11-08 15:40:26,576 | fedavg.py:242 | No fit_metrics_aggregation_fn provided\n",
            "WARNING:flwr:No fit_metrics_aggregation_fn provided\n",
            "INFO flwr 2023-11-08 15:40:53,356 | server.py:125 | fit progress: (1, 0.03604011293031571, {'loss': 0.03604011293031571}, 139.2914787890004)\n",
            "INFO:flwr:fit progress: (1, 0.03604011293031571, {'loss': 0.03604011293031571}, 139.2914787890004)\n",
            "DEBUG flwr 2023-11-08 15:40:53,367 | server.py:173 | evaluate_round 1: strategy sampled 3 clients (out of 3)\n",
            "DEBUG:flwr:evaluate_round 1: strategy sampled 3 clients (out of 3)\n"
          ]
        },
        {
          "metadata": {
            "tags": null
          },
          "name": "stdout",
          "output_type": "stream",
          "text": [
            "\n",
            "\n",
            ">>> Server-side evaluation loss 0.03604011293031571\n",
            "\n",
            "\n",
            "\u001b[2m\u001b[36m(DefaultActor pid=21665)\u001b[0m [Client 0] evaluate: config: {}\n",
            "\u001b[2m\u001b[36m(DefaultActor pid=21665)\u001b[0m [Client 1] evaluate: config: {}\n",
            "\u001b[2m\u001b[36m(DefaultActor pid=21665)\u001b[0m [Client 2] evaluate: config: {}\n"
          ]
        },
        {
          "metadata": {
            "tags": null
          },
          "name": "stderr",
          "output_type": "stream",
          "text": [
            "DEBUG flwr 2023-11-08 15:40:56,331 | server.py:187 | evaluate_round 1 received 3 results and 0 failures\n",
            "DEBUG:flwr:evaluate_round 1 received 3 results and 0 failures\n",
            "WARNING flwr 2023-11-08 15:40:56,337 | fedavg.py:273 | No evaluate_metrics_aggregation_fn provided\n",
            "WARNING:flwr:No evaluate_metrics_aggregation_fn provided\n",
            "DEBUG flwr 2023-11-08 15:40:56,339 | server.py:222 | fit_round 2: strategy sampled 3 clients (out of 3)\n",
            "DEBUG:flwr:fit_round 2: strategy sampled 3 clients (out of 3)\n"
          ]
        },
        {
          "metadata": {
            "tags": null
          },
          "name": "stdout",
          "output_type": "stream",
          "text": [
            "\u001b[2m\u001b[36m(DefaultActor pid=21665)\u001b[0m [Client 0, round 2] fit, config: {'server_round': 2, 'local_epochs': 3}\n",
            "\u001b[2m\u001b[36m(DefaultActor pid=21665)\u001b[0m Epoch 1: train loss 0.035515102037677056\n",
            "\u001b[2m\u001b[36m(DefaultActor pid=21665)\u001b[0m Epoch 2: train loss 0.03299584417431443\n",
            "\u001b[2m\u001b[36m(DefaultActor pid=21665)\u001b[0m Epoch 3: train loss 0.030800578240995052\n",
            "\u001b[2m\u001b[36m(DefaultActor pid=21665)\u001b[0m [Client 2, round 2] fit, config: {'server_round': 2, 'local_epochs': 3}\n",
            "\u001b[2m\u001b[36m(DefaultActor pid=21665)\u001b[0m Epoch 1: train loss 0.035308534149770386\n",
            "\u001b[2m\u001b[36m(DefaultActor pid=21665)\u001b[0m Epoch 2: train loss 0.03274608255536468\n",
            "\u001b[2m\u001b[36m(DefaultActor pid=21665)\u001b[0m Epoch 3: train loss 0.030615993914780794\n",
            "\u001b[2m\u001b[36m(DefaultActor pid=21665)\u001b[0m [Client 1, round 2] fit, config: {'server_round': 2, 'local_epochs': 3}\n",
            "\u001b[2m\u001b[36m(DefaultActor pid=21665)\u001b[0m Epoch 1: train loss 0.03618684653882627\n",
            "\u001b[2m\u001b[36m(DefaultActor pid=21665)\u001b[0m Epoch 2: train loss 0.033754201465182834\n"
          ]
        },
        {
          "metadata": {
            "tags": null
          },
          "name": "stderr",
          "output_type": "stream",
          "text": [
            "DEBUG flwr 2023-11-08 15:43:43,905 | server.py:236 | fit_round 2 received 3 results and 0 failures\n",
            "DEBUG:flwr:fit_round 2 received 3 results and 0 failures\n"
          ]
        },
        {
          "metadata": {
            "tags": null
          },
          "name": "stdout",
          "output_type": "stream",
          "text": [
            "\u001b[2m\u001b[36m(DefaultActor pid=21665)\u001b[0m Epoch 3: train loss 0.03147173351711697\n"
          ]
        },
        {
          "metadata": {
            "tags": null
          },
          "name": "stderr",
          "output_type": "stream",
          "text": [
            "INFO flwr 2023-11-08 15:44:10,845 | server.py:125 | fit progress: (2, 0.028900699646800896, {'loss': 0.028900699646800896}, 336.7802632460007)\n",
            "INFO:flwr:fit progress: (2, 0.028900699646800896, {'loss': 0.028900699646800896}, 336.7802632460007)\n",
            "DEBUG flwr 2023-11-08 15:44:10,849 | server.py:173 | evaluate_round 2: strategy sampled 3 clients (out of 3)\n",
            "DEBUG:flwr:evaluate_round 2: strategy sampled 3 clients (out of 3)\n"
          ]
        },
        {
          "metadata": {
            "tags": null
          },
          "name": "stdout",
          "output_type": "stream",
          "text": [
            "\n",
            "\n",
            ">>> Server-side evaluation loss 0.028900699646800896\n",
            "\n",
            "\n",
            "\u001b[2m\u001b[36m(DefaultActor pid=21665)\u001b[0m [Client 0] evaluate: config: {}\n",
            "\u001b[2m\u001b[36m(DefaultActor pid=21665)\u001b[0m [Client 1] evaluate: config: {}\n",
            "\u001b[2m\u001b[36m(DefaultActor pid=21665)\u001b[0m [Client 2] evaluate: config: {}\n"
          ]
        },
        {
          "metadata": {
            "tags": null
          },
          "name": "stderr",
          "output_type": "stream",
          "text": [
            "DEBUG flwr 2023-11-08 15:44:14,018 | server.py:187 | evaluate_round 2 received 3 results and 0 failures\n",
            "DEBUG:flwr:evaluate_round 2 received 3 results and 0 failures\n",
            "DEBUG flwr 2023-11-08 15:44:14,022 | server.py:222 | fit_round 3: strategy sampled 3 clients (out of 3)\n",
            "DEBUG:flwr:fit_round 3: strategy sampled 3 clients (out of 3)\n"
          ]
        },
        {
          "metadata": {
            "tags": null
          },
          "name": "stdout",
          "output_type": "stream",
          "text": [
            "\u001b[2m\u001b[36m(DefaultActor pid=21665)\u001b[0m [Client 0, round 3] fit, config: {'server_round': 3, 'local_epochs': 3}\n",
            "\u001b[2m\u001b[36m(DefaultActor pid=21665)\u001b[0m Epoch 1: train loss 0.02922462695174747\n",
            "\u001b[2m\u001b[36m(DefaultActor pid=21665)\u001b[0m Epoch 2: train loss 0.027782972421911026\n",
            "\u001b[2m\u001b[36m(DefaultActor pid=21665)\u001b[0m Epoch 3: train loss 0.02649977688436155\n",
            "\u001b[2m\u001b[36m(DefaultActor pid=21665)\u001b[0m [Client 1, round 3] fit, config: {'server_round': 3, 'local_epochs': 3}\n",
            "\u001b[2m\u001b[36m(DefaultActor pid=21665)\u001b[0m Epoch 1: train loss 0.0299201974162349\n",
            "\u001b[2m\u001b[36m(DefaultActor pid=21665)\u001b[0m Epoch 2: train loss 0.028313966051295953\n",
            "\u001b[2m\u001b[36m(DefaultActor pid=21665)\u001b[0m Epoch 3: train loss 0.026998073017155684\n",
            "\u001b[2m\u001b[36m(DefaultActor pid=21665)\u001b[0m [Client 2, round 3] fit, config: {'server_round': 3, 'local_epochs': 3}\n",
            "\u001b[2m\u001b[36m(DefaultActor pid=21665)\u001b[0m Epoch 1: train loss 0.029180040745823473\n",
            "\u001b[2m\u001b[36m(DefaultActor pid=21665)\u001b[0m Epoch 2: train loss 0.02764881623012048\n"
          ]
        },
        {
          "metadata": {
            "tags": null
          },
          "name": "stderr",
          "output_type": "stream",
          "text": [
            "DEBUG flwr 2023-11-08 15:47:01,403 | server.py:236 | fit_round 3 received 3 results and 0 failures\n",
            "DEBUG:flwr:fit_round 3 received 3 results and 0 failures\n"
          ]
        },
        {
          "metadata": {
            "tags": null
          },
          "name": "stdout",
          "output_type": "stream",
          "text": [
            "\u001b[2m\u001b[36m(DefaultActor pid=21665)\u001b[0m Epoch 3: train loss 0.026309703831319455\n"
          ]
        },
        {
          "output_type": "stream",
          "name": "stderr",
          "text": [
            "INFO flwr 2023-11-08 15:47:28,424 | server.py:125 | fit progress: (3, 0.0250554058386831, {'loss': 0.0250554058386831}, 534.359354923)\n",
            "INFO:flwr:fit progress: (3, 0.0250554058386831, {'loss': 0.0250554058386831}, 534.359354923)\n",
            "DEBUG flwr 2023-11-08 15:47:28,426 | server.py:173 | evaluate_round 3: strategy sampled 3 clients (out of 3)\n",
            "DEBUG:flwr:evaluate_round 3: strategy sampled 3 clients (out of 3)\n"
          ]
        },
        {
          "output_type": "stream",
          "name": "stdout",
          "text": [
            "\n",
            "\n",
            ">>> Server-side evaluation loss 0.0250554058386831\n",
            "\n",
            "\n",
            "\u001b[2m\u001b[36m(DefaultActor pid=21665)\u001b[0m [Client 1] evaluate: config: {}\n",
            "\u001b[2m\u001b[36m(DefaultActor pid=21665)\u001b[0m [Client 0] evaluate: config: {}\n",
            "\u001b[2m\u001b[36m(DefaultActor pid=21665)\u001b[0m [Client 2] evaluate: config: {}\n"
          ]
        },
        {
          "output_type": "stream",
          "name": "stderr",
          "text": [
            "DEBUG flwr 2023-11-08 15:47:31,220 | server.py:187 | evaluate_round 3 received 3 results and 0 failures\n",
            "DEBUG:flwr:evaluate_round 3 received 3 results and 0 failures\n",
            "DEBUG flwr 2023-11-08 15:47:31,224 | server.py:222 | fit_round 4: strategy sampled 3 clients (out of 3)\n",
            "DEBUG:flwr:fit_round 4: strategy sampled 3 clients (out of 3)\n"
          ]
        },
        {
          "output_type": "stream",
          "name": "stdout",
          "text": [
            "\u001b[2m\u001b[36m(DefaultActor pid=21665)\u001b[0m [Client 2, round 4] fit, config: {'server_round': 4, 'local_epochs': 3}\n",
            "\u001b[2m\u001b[36m(DefaultActor pid=21665)\u001b[0m Epoch 1: train loss 0.025585056719956575\n",
            "\u001b[2m\u001b[36m(DefaultActor pid=21665)\u001b[0m Epoch 2: train loss 0.024520140985647837\n",
            "\u001b[2m\u001b[36m(DefaultActor pid=21665)\u001b[0m Epoch 3: train loss 0.023696866940568995\n",
            "\u001b[2m\u001b[36m(DefaultActor pid=21665)\u001b[0m [Client 0, round 4] fit, config: {'server_round': 4, 'local_epochs': 3}\n",
            "\u001b[2m\u001b[36m(DefaultActor pid=21665)\u001b[0m Epoch 1: train loss 0.025703431025699334\n",
            "\u001b[2m\u001b[36m(DefaultActor pid=21665)\u001b[0m Epoch 2: train loss 0.02460892337339896\n",
            "\u001b[2m\u001b[36m(DefaultActor pid=21665)\u001b[0m Epoch 3: train loss 0.023803513215647804\n",
            "\u001b[2m\u001b[36m(DefaultActor pid=21665)\u001b[0m [Client 1, round 4] fit, config: {'server_round': 4, 'local_epochs': 3}\n",
            "\u001b[2m\u001b[36m(DefaultActor pid=21665)\u001b[0m Epoch 1: train loss 0.02614888373348448\n",
            "\u001b[2m\u001b[36m(DefaultActor pid=21665)\u001b[0m Epoch 2: train loss 0.02507834130967105\n"
          ]
        },
        {
          "output_type": "stream",
          "name": "stderr",
          "text": [
            "DEBUG flwr 2023-11-08 15:50:19,116 | server.py:236 | fit_round 4 received 3 results and 0 failures\n",
            "DEBUG:flwr:fit_round 4 received 3 results and 0 failures\n"
          ]
        },
        {
          "output_type": "stream",
          "name": "stdout",
          "text": [
            "\u001b[2m\u001b[36m(DefaultActor pid=21665)\u001b[0m Epoch 3: train loss 0.024355014352886766\n"
          ]
        },
        {
          "output_type": "stream",
          "name": "stderr",
          "text": [
            "INFO flwr 2023-11-08 15:50:46,065 | server.py:125 | fit progress: (4, 0.02278480763537893, {'loss': 0.02278480763537893}, 731.9997973250001)\n",
            "INFO:flwr:fit progress: (4, 0.02278480763537893, {'loss': 0.02278480763537893}, 731.9997973250001)\n",
            "DEBUG flwr 2023-11-08 15:50:46,070 | server.py:173 | evaluate_round 4: strategy sampled 3 clients (out of 3)\n",
            "DEBUG:flwr:evaluate_round 4: strategy sampled 3 clients (out of 3)\n"
          ]
        },
        {
          "output_type": "stream",
          "name": "stdout",
          "text": [
            "\n",
            "\n",
            ">>> Server-side evaluation loss 0.02278480763537893\n",
            "\n",
            "\n",
            "\u001b[2m\u001b[36m(DefaultActor pid=21665)\u001b[0m [Client 2] evaluate: config: {}\n",
            "\u001b[2m\u001b[36m(DefaultActor pid=21665)\u001b[0m [Client 0] evaluate: config: {}\n",
            "\u001b[2m\u001b[36m(DefaultActor pid=21665)\u001b[0m [Client 1] evaluate: config: {}\n"
          ]
        },
        {
          "output_type": "stream",
          "name": "stderr",
          "text": [
            "DEBUG flwr 2023-11-08 15:50:48,770 | server.py:187 | evaluate_round 4 received 3 results and 0 failures\n",
            "DEBUG:flwr:evaluate_round 4 received 3 results and 0 failures\n",
            "DEBUG flwr 2023-11-08 15:50:48,775 | server.py:222 | fit_round 5: strategy sampled 3 clients (out of 3)\n",
            "DEBUG:flwr:fit_round 5: strategy sampled 3 clients (out of 3)\n"
          ]
        },
        {
          "output_type": "stream",
          "name": "stdout",
          "text": [
            "\u001b[2m\u001b[36m(DefaultActor pid=21665)\u001b[0m [Client 0, round 5] fit, config: {'server_round': 5, 'local_epochs': 3}\n",
            "\u001b[2m\u001b[36m(DefaultActor pid=21665)\u001b[0m Epoch 1: train loss 0.023440286550256942\n",
            "\u001b[2m\u001b[36m(DefaultActor pid=21665)\u001b[0m Epoch 2: train loss 0.022647833404717623\n",
            "\u001b[2m\u001b[36m(DefaultActor pid=21665)\u001b[0m Epoch 3: train loss 0.022066449887222714\n",
            "\u001b[2m\u001b[36m(DefaultActor pid=21665)\u001b[0m [Client 2, round 5] fit, config: {'server_round': 5, 'local_epochs': 3}\n",
            "\u001b[2m\u001b[36m(DefaultActor pid=21665)\u001b[0m Epoch 1: train loss 0.023317777437192422\n",
            "\u001b[2m\u001b[36m(DefaultActor pid=21665)\u001b[0m Epoch 2: train loss 0.02261201588092027\n",
            "\u001b[2m\u001b[36m(DefaultActor pid=21665)\u001b[0m Epoch 3: train loss 0.021924372420266822\n",
            "\u001b[2m\u001b[36m(DefaultActor pid=21665)\u001b[0m [Client 1, round 5] fit, config: {'server_round': 5, 'local_epochs': 3}\n",
            "\u001b[2m\u001b[36m(DefaultActor pid=21665)\u001b[0m Epoch 1: train loss 0.02388288899704262\n",
            "\u001b[2m\u001b[36m(DefaultActor pid=21665)\u001b[0m Epoch 2: train loss 0.023124475876490275\n"
          ]
        },
        {
          "output_type": "stream",
          "name": "stderr",
          "text": [
            "DEBUG flwr 2023-11-08 15:53:36,400 | server.py:236 | fit_round 5 received 3 results and 0 failures\n",
            "DEBUG:flwr:fit_round 5 received 3 results and 0 failures\n"
          ]
        },
        {
          "output_type": "stream",
          "name": "stdout",
          "text": [
            "\u001b[2m\u001b[36m(DefaultActor pid=21665)\u001b[0m Epoch 3: train loss 0.02243731755901266\n"
          ]
        },
        {
          "output_type": "stream",
          "name": "stderr",
          "text": [
            "INFO flwr 2023-11-08 15:54:03,392 | server.py:125 | fit progress: (5, 0.021384137905731085, {'loss': 0.021384137905731085}, 929.3271177830002)\n",
            "INFO:flwr:fit progress: (5, 0.021384137905731085, {'loss': 0.021384137905731085}, 929.3271177830002)\n",
            "DEBUG flwr 2023-11-08 15:54:03,398 | server.py:173 | evaluate_round 5: strategy sampled 3 clients (out of 3)\n",
            "DEBUG:flwr:evaluate_round 5: strategy sampled 3 clients (out of 3)\n"
          ]
        },
        {
          "output_type": "stream",
          "name": "stdout",
          "text": [
            "\n",
            "\n",
            ">>> Server-side evaluation loss 0.021384137905731085\n",
            "\n",
            "\n",
            "\u001b[2m\u001b[36m(DefaultActor pid=21665)\u001b[0m [Client 2] evaluate: config: {}\n",
            "\u001b[2m\u001b[36m(DefaultActor pid=21665)\u001b[0m [Client 1] evaluate: config: {}\n",
            "\u001b[2m\u001b[36m(DefaultActor pid=21665)\u001b[0m [Client 0] evaluate: config: {}\n"
          ]
        },
        {
          "output_type": "stream",
          "name": "stderr",
          "text": [
            "DEBUG flwr 2023-11-08 15:54:06,109 | server.py:187 | evaluate_round 5 received 3 results and 0 failures\n",
            "DEBUG:flwr:evaluate_round 5 received 3 results and 0 failures\n",
            "INFO flwr 2023-11-08 15:54:06,115 | server.py:153 | FL finished in 932.050093367\n",
            "INFO:flwr:FL finished in 932.050093367\n",
            "INFO flwr 2023-11-08 15:54:06,119 | app.py:225 | app_fit: losses_distributed [(1, 0.03643145759900411), (2, 0.029163284964031647), (3, 0.02533520387278663), (4, 0.023057628704441915), (5, 0.021657457815276247)]\n",
            "INFO:flwr:app_fit: losses_distributed [(1, 0.03643145759900411), (2, 0.029163284964031647), (3, 0.02533520387278663), (4, 0.023057628704441915), (5, 0.021657457815276247)]\n",
            "INFO flwr 2023-11-08 15:54:06,126 | app.py:226 | app_fit: metrics_distributed_fit {}\n",
            "INFO:flwr:app_fit: metrics_distributed_fit {}\n",
            "INFO flwr 2023-11-08 15:54:06,127 | app.py:227 | app_fit: metrics_distributed {}\n",
            "INFO:flwr:app_fit: metrics_distributed {}\n",
            "INFO flwr 2023-11-08 15:54:06,129 | app.py:228 | app_fit: losses_centralized [(0, 0.15957860561249115), (1, 0.03604011293031571), (2, 0.028900699646800896), (3, 0.0250554058386831), (4, 0.02278480763537893), (5, 0.021384137905731085)]\n",
            "INFO:flwr:app_fit: losses_centralized [(0, 0.15957860561249115), (1, 0.03604011293031571), (2, 0.028900699646800896), (3, 0.0250554058386831), (4, 0.02278480763537893), (5, 0.021384137905731085)]\n",
            "INFO flwr 2023-11-08 15:54:06,131 | app.py:229 | app_fit: metrics_centralized {'loss': [(0, 0.15957860561249115), (1, 0.03604011293031571), (2, 0.028900699646800896), (3, 0.0250554058386831), (4, 0.02278480763537893), (5, 0.021384137905731085)]}\n",
            "INFO:flwr:app_fit: metrics_centralized {'loss': [(0, 0.15957860561249115), (1, 0.03604011293031571), (2, 0.028900699646800896), (3, 0.0250554058386831), (4, 0.02278480763537893), (5, 0.021384137905731085)]}\n"
          ]
        },
        {
          "output_type": "execute_result",
          "data": {
            "text/plain": [
              "History (loss, distributed):\n",
              "\tround 1: 0.03643145759900411\n",
              "\tround 2: 0.029163284964031647\n",
              "\tround 3: 0.02533520387278663\n",
              "\tround 4: 0.023057628704441915\n",
              "\tround 5: 0.021657457815276247\n",
              "History (loss, centralized):\n",
              "\tround 0: 0.15957860561249115\n",
              "\tround 1: 0.03604011293031571\n",
              "\tround 2: 0.028900699646800896\n",
              "\tround 3: 0.0250554058386831\n",
              "\tround 4: 0.02278480763537893\n",
              "\tround 5: 0.021384137905731085\n",
              "History (metrics, centralized):\n",
              "{'loss': [(0, 0.15957860561249115), (1, 0.03604011293031571), (2, 0.028900699646800896), (3, 0.0250554058386831), (4, 0.02278480763537893), (5, 0.021384137905731085)]}"
            ]
          },
          "metadata": {},
          "execution_count": 16
        }
      ]
    },
    {
      "cell_type": "code",
      "source": [],
      "metadata": {
        "id": "g6z1UiGzkgwY"
      },
      "execution_count": 16,
      "outputs": []
    }
  ]
}